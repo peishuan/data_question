{
 "cells": [
  {
   "cell_type": "markdown",
   "metadata": {},
   "source": [
    "題目：\n",
    "阿竹是一個旅館銷售人員，負責某間旅館的銷售業務，他想針對旅館網頁的訪客進行廣告優惠，但是行銷經費有限，只能針對較有可能消費的訪客進行廣告。阿竹提供了旅館網站的Google Analytics流量統計資料，請資料工程師幫助阿竹找出可能進行消費的訪客。"
   ]
  },
  {
   "cell_type": "raw",
   "metadata": {},
   "source": [
    "1.\t基本題：預測訪客是否會訂房，請依照流量統計資料train.csv，訓練一個分類模型或回歸模型，預測test.csv中每位訪客是否會進行消費的機率，並依照sample_submission.csv的格式提交預測結果"
   ]
  },
  {
   "cell_type": "code",
   "execution_count": 2,
   "metadata": {},
   "outputs": [
    {
     "data": {
      "text/html": [
       "<div>\n",
       "<style scoped>\n",
       "    .dataframe tbody tr th:only-of-type {\n",
       "        vertical-align: middle;\n",
       "    }\n",
       "\n",
       "    .dataframe tbody tr th {\n",
       "        vertical-align: top;\n",
       "    }\n",
       "\n",
       "    .dataframe thead th {\n",
       "        text-align: right;\n",
       "    }\n",
       "</style>\n",
       "<table border=\"1\" class=\"dataframe\">\n",
       "  <thead>\n",
       "    <tr style=\"text-align: right;\">\n",
       "      <th></th>\n",
       "      <th>ID</th>\n",
       "      <th>Administrative</th>\n",
       "      <th>Administrative_Duration</th>\n",
       "      <th>Informational</th>\n",
       "      <th>Informational_Duration</th>\n",
       "      <th>ProductRelated</th>\n",
       "      <th>ProductRelated_Duration</th>\n",
       "      <th>BounceRates</th>\n",
       "      <th>ExitRates</th>\n",
       "      <th>PageValues</th>\n",
       "      <th>SpecialDay</th>\n",
       "      <th>Month</th>\n",
       "      <th>OperatingSystems</th>\n",
       "      <th>Browser</th>\n",
       "      <th>Region</th>\n",
       "      <th>TrafficType</th>\n",
       "      <th>VisitorType</th>\n",
       "      <th>Weekend</th>\n",
       "      <th>Revenue</th>\n",
       "    </tr>\n",
       "  </thead>\n",
       "  <tbody>\n",
       "    <tr>\n",
       "      <th>0</th>\n",
       "      <td>8773</td>\n",
       "      <td>0</td>\n",
       "      <td>0.000000</td>\n",
       "      <td>0</td>\n",
       "      <td>0.0</td>\n",
       "      <td>1</td>\n",
       "      <td>0.000000</td>\n",
       "      <td>0.200000</td>\n",
       "      <td>0.200000</td>\n",
       "      <td>0.000000</td>\n",
       "      <td>0.4</td>\n",
       "      <td>2</td>\n",
       "      <td>3.0</td>\n",
       "      <td>11.0</td>\n",
       "      <td>3.0</td>\n",
       "      <td>7.0</td>\n",
       "      <td>2.0</td>\n",
       "      <td>0</td>\n",
       "      <td>0</td>\n",
       "    </tr>\n",
       "    <tr>\n",
       "      <th>1</th>\n",
       "      <td>6709</td>\n",
       "      <td>0</td>\n",
       "      <td>0.000000</td>\n",
       "      <td>0</td>\n",
       "      <td>0.0</td>\n",
       "      <td>1</td>\n",
       "      <td>0.000000</td>\n",
       "      <td>0.200000</td>\n",
       "      <td>0.200000</td>\n",
       "      <td>0.000000</td>\n",
       "      <td>0.0</td>\n",
       "      <td>9</td>\n",
       "      <td>1.0</td>\n",
       "      <td>10.0</td>\n",
       "      <td>0.0</td>\n",
       "      <td>8.0</td>\n",
       "      <td>2.0</td>\n",
       "      <td>0</td>\n",
       "      <td>0</td>\n",
       "    </tr>\n",
       "    <tr>\n",
       "      <th>2</th>\n",
       "      <td>1463</td>\n",
       "      <td>9</td>\n",
       "      <td>301.000000</td>\n",
       "      <td>0</td>\n",
       "      <td>0.0</td>\n",
       "      <td>38</td>\n",
       "      <td>2621.621429</td>\n",
       "      <td>0.021212</td>\n",
       "      <td>0.044508</td>\n",
       "      <td>10.721172</td>\n",
       "      <td>0.0</td>\n",
       "      <td>8</td>\n",
       "      <td>1.0</td>\n",
       "      <td>10.0</td>\n",
       "      <td>0.0</td>\n",
       "      <td>14.0</td>\n",
       "      <td>2.0</td>\n",
       "      <td>0</td>\n",
       "      <td>0</td>\n",
       "    </tr>\n",
       "    <tr>\n",
       "      <th>3</th>\n",
       "      <td>4095</td>\n",
       "      <td>2</td>\n",
       "      <td>13.333333</td>\n",
       "      <td>0</td>\n",
       "      <td>0.0</td>\n",
       "      <td>105</td>\n",
       "      <td>2062.443592</td>\n",
       "      <td>0.012205</td>\n",
       "      <td>0.020276</td>\n",
       "      <td>0.000000</td>\n",
       "      <td>0.6</td>\n",
       "      <td>2</td>\n",
       "      <td>5.0</td>\n",
       "      <td>10.0</td>\n",
       "      <td>0.0</td>\n",
       "      <td>7.0</td>\n",
       "      <td>2.0</td>\n",
       "      <td>0</td>\n",
       "      <td>0</td>\n",
       "    </tr>\n",
       "    <tr>\n",
       "      <th>4</th>\n",
       "      <td>3346</td>\n",
       "      <td>0</td>\n",
       "      <td>0.000000</td>\n",
       "      <td>0</td>\n",
       "      <td>0.0</td>\n",
       "      <td>19</td>\n",
       "      <td>220.384849</td>\n",
       "      <td>0.010526</td>\n",
       "      <td>0.024642</td>\n",
       "      <td>0.000000</td>\n",
       "      <td>0.0</td>\n",
       "      <td>2</td>\n",
       "      <td>1.0</td>\n",
       "      <td>1.0</td>\n",
       "      <td>0.0</td>\n",
       "      <td>7.0</td>\n",
       "      <td>2.0</td>\n",
       "      <td>0</td>\n",
       "      <td>0</td>\n",
       "    </tr>\n",
       "  </tbody>\n",
       "</table>\n",
       "</div>"
      ],
      "text/plain": [
       "     ID  Administrative  Administrative_Duration  Informational  \\\n",
       "0  8773               0                 0.000000              0   \n",
       "1  6709               0                 0.000000              0   \n",
       "2  1463               9               301.000000              0   \n",
       "3  4095               2                13.333333              0   \n",
       "4  3346               0                 0.000000              0   \n",
       "\n",
       "   Informational_Duration  ProductRelated  ProductRelated_Duration  \\\n",
       "0                     0.0               1                 0.000000   \n",
       "1                     0.0               1                 0.000000   \n",
       "2                     0.0              38              2621.621429   \n",
       "3                     0.0             105              2062.443592   \n",
       "4                     0.0              19               220.384849   \n",
       "\n",
       "   BounceRates  ExitRates  PageValues  SpecialDay  Month  OperatingSystems  \\\n",
       "0     0.200000   0.200000    0.000000         0.4      2               3.0   \n",
       "1     0.200000   0.200000    0.000000         0.0      9               1.0   \n",
       "2     0.021212   0.044508   10.721172         0.0      8               1.0   \n",
       "3     0.012205   0.020276    0.000000         0.6      2               5.0   \n",
       "4     0.010526   0.024642    0.000000         0.0      2               1.0   \n",
       "\n",
       "   Browser  Region  TrafficType  VisitorType  Weekend  Revenue  \n",
       "0     11.0     3.0          7.0          2.0        0        0  \n",
       "1     10.0     0.0          8.0          2.0        0        0  \n",
       "2     10.0     0.0         14.0          2.0        0        0  \n",
       "3     10.0     0.0          7.0          2.0        0        0  \n",
       "4      1.0     0.0          7.0          2.0        0        0  "
      ]
     },
     "execution_count": 2,
     "metadata": {},
     "output_type": "execute_result"
    }
   ],
   "source": [
    "import pandas as pd\n",
    "import numpy as np\n",
    "from sklearn.linear_model import LogisticRegression\n",
    "from sklearn.preprocessing import StandardScaler\n",
    "from sklearn.metrics import accuracy_score\n",
    "from sklearn.metrics import precision_score\n",
    "from sklearn.metrics import recall_score\n",
    "from sklearn.metrics import f1_score\n",
    "from sklearn import metrics\n",
    "from sklearn.neighbors import KNeighborsClassifier\n",
    "from sklearn import tree\n",
    "from sklearn.neural_network import MLPRegressor\n",
    "from sklearn.neural_network import MLPClassifier\n",
    "#loading training data\n",
    "train = pd.read_csv(\"train.csv\")\n",
    "train.head()\n",
    "#10 numerical + 8 categorical attribues"
   ]
  },
  {
   "cell_type": "code",
   "execution_count": 3,
   "metadata": {},
   "outputs": [
    {
     "data": {
      "text/html": [
       "<div>\n",
       "<style scoped>\n",
       "    .dataframe tbody tr th:only-of-type {\n",
       "        vertical-align: middle;\n",
       "    }\n",
       "\n",
       "    .dataframe tbody tr th {\n",
       "        vertical-align: top;\n",
       "    }\n",
       "\n",
       "    .dataframe thead th {\n",
       "        text-align: right;\n",
       "    }\n",
       "</style>\n",
       "<table border=\"1\" class=\"dataframe\">\n",
       "  <thead>\n",
       "    <tr style=\"text-align: right;\">\n",
       "      <th></th>\n",
       "      <th>ID</th>\n",
       "      <th>Administrative</th>\n",
       "      <th>Administrative_Duration</th>\n",
       "      <th>Informational</th>\n",
       "      <th>Informational_Duration</th>\n",
       "      <th>ProductRelated</th>\n",
       "      <th>ProductRelated_Duration</th>\n",
       "      <th>BounceRates</th>\n",
       "      <th>ExitRates</th>\n",
       "      <th>PageValues</th>\n",
       "      <th>SpecialDay</th>\n",
       "      <th>Month</th>\n",
       "      <th>OperatingSystems</th>\n",
       "      <th>Browser</th>\n",
       "      <th>Region</th>\n",
       "      <th>TrafficType</th>\n",
       "      <th>VisitorType</th>\n",
       "      <th>Weekend</th>\n",
       "    </tr>\n",
       "  </thead>\n",
       "  <tbody>\n",
       "    <tr>\n",
       "      <th>0</th>\n",
       "      <td>6162</td>\n",
       "      <td>0</td>\n",
       "      <td>0.0</td>\n",
       "      <td>0</td>\n",
       "      <td>0.0</td>\n",
       "      <td>12</td>\n",
       "      <td>482.500000</td>\n",
       "      <td>0.020000</td>\n",
       "      <td>0.040000</td>\n",
       "      <td>0.000000</td>\n",
       "      <td>0.0</td>\n",
       "      <td>8</td>\n",
       "      <td>3</td>\n",
       "      <td>10</td>\n",
       "      <td>0</td>\n",
       "      <td>5</td>\n",
       "      <td>2</td>\n",
       "      <td>0</td>\n",
       "    </tr>\n",
       "    <tr>\n",
       "      <th>1</th>\n",
       "      <td>8143</td>\n",
       "      <td>3</td>\n",
       "      <td>33.0</td>\n",
       "      <td>0</td>\n",
       "      <td>0.0</td>\n",
       "      <td>17</td>\n",
       "      <td>386.416667</td>\n",
       "      <td>0.000000</td>\n",
       "      <td>0.010000</td>\n",
       "      <td>0.000000</td>\n",
       "      <td>0.0</td>\n",
       "      <td>9</td>\n",
       "      <td>1</td>\n",
       "      <td>10</td>\n",
       "      <td>0</td>\n",
       "      <td>4</td>\n",
       "      <td>1</td>\n",
       "      <td>0</td>\n",
       "    </tr>\n",
       "    <tr>\n",
       "      <th>2</th>\n",
       "      <td>5571</td>\n",
       "      <td>0</td>\n",
       "      <td>0.0</td>\n",
       "      <td>0</td>\n",
       "      <td>0.0</td>\n",
       "      <td>9</td>\n",
       "      <td>154.800000</td>\n",
       "      <td>0.018182</td>\n",
       "      <td>0.030303</td>\n",
       "      <td>20.749351</td>\n",
       "      <td>0.0</td>\n",
       "      <td>8</td>\n",
       "      <td>3</td>\n",
       "      <td>3</td>\n",
       "      <td>2</td>\n",
       "      <td>4</td>\n",
       "      <td>2</td>\n",
       "      <td>0</td>\n",
       "    </tr>\n",
       "    <tr>\n",
       "      <th>3</th>\n",
       "      <td>3933</td>\n",
       "      <td>5</td>\n",
       "      <td>79.0</td>\n",
       "      <td>1</td>\n",
       "      <td>12.0</td>\n",
       "      <td>54</td>\n",
       "      <td>1603.333333</td>\n",
       "      <td>0.005085</td>\n",
       "      <td>0.025424</td>\n",
       "      <td>0.000000</td>\n",
       "      <td>0.4</td>\n",
       "      <td>2</td>\n",
       "      <td>1</td>\n",
       "      <td>10</td>\n",
       "      <td>1</td>\n",
       "      <td>7</td>\n",
       "      <td>2</td>\n",
       "      <td>0</td>\n",
       "    </tr>\n",
       "    <tr>\n",
       "      <th>4</th>\n",
       "      <td>934</td>\n",
       "      <td>2</td>\n",
       "      <td>17.0</td>\n",
       "      <td>1</td>\n",
       "      <td>105.0</td>\n",
       "      <td>9</td>\n",
       "      <td>148.250000</td>\n",
       "      <td>0.020000</td>\n",
       "      <td>0.022000</td>\n",
       "      <td>0.000000</td>\n",
       "      <td>0.0</td>\n",
       "      <td>1</td>\n",
       "      <td>5</td>\n",
       "      <td>10</td>\n",
       "      <td>0</td>\n",
       "      <td>8</td>\n",
       "      <td>2</td>\n",
       "      <td>0</td>\n",
       "    </tr>\n",
       "  </tbody>\n",
       "</table>\n",
       "</div>"
      ],
      "text/plain": [
       "     ID  Administrative  Administrative_Duration  Informational  \\\n",
       "0  6162               0                      0.0              0   \n",
       "1  8143               3                     33.0              0   \n",
       "2  5571               0                      0.0              0   \n",
       "3  3933               5                     79.0              1   \n",
       "4   934               2                     17.0              1   \n",
       "\n",
       "   Informational_Duration  ProductRelated  ProductRelated_Duration  \\\n",
       "0                     0.0              12               482.500000   \n",
       "1                     0.0              17               386.416667   \n",
       "2                     0.0               9               154.800000   \n",
       "3                    12.0              54              1603.333333   \n",
       "4                   105.0               9               148.250000   \n",
       "\n",
       "   BounceRates  ExitRates  PageValues  SpecialDay  Month  OperatingSystems  \\\n",
       "0     0.020000   0.040000    0.000000         0.0      8                 3   \n",
       "1     0.000000   0.010000    0.000000         0.0      9                 1   \n",
       "2     0.018182   0.030303   20.749351         0.0      8                 3   \n",
       "3     0.005085   0.025424    0.000000         0.4      2                 1   \n",
       "4     0.020000   0.022000    0.000000         0.0      1                 5   \n",
       "\n",
       "   Browser  Region  TrafficType  VisitorType  Weekend  \n",
       "0       10       0            5            2        0  \n",
       "1       10       0            4            1        0  \n",
       "2        3       2            4            2        0  \n",
       "3       10       1            7            2        0  \n",
       "4       10       0            8            2        0  "
      ]
     },
     "execution_count": 3,
     "metadata": {},
     "output_type": "execute_result"
    }
   ],
   "source": [
    "#loading testing data\n",
    "test = pd.read_csv(\"test.csv\")\n",
    "test.head()"
   ]
  },
  {
   "cell_type": "markdown",
   "metadata": {},
   "source": [
    "# 資料分布情形"
   ]
  },
  {
   "cell_type": "code",
   "execution_count": 4,
   "metadata": {},
   "outputs": [
    {
     "data": {
      "text/html": [
       "<div>\n",
       "<style scoped>\n",
       "    .dataframe tbody tr th:only-of-type {\n",
       "        vertical-align: middle;\n",
       "    }\n",
       "\n",
       "    .dataframe tbody tr th {\n",
       "        vertical-align: top;\n",
       "    }\n",
       "\n",
       "    .dataframe thead th {\n",
       "        text-align: right;\n",
       "    }\n",
       "</style>\n",
       "<table border=\"1\" class=\"dataframe\">\n",
       "  <thead>\n",
       "    <tr style=\"text-align: right;\">\n",
       "      <th></th>\n",
       "      <th>Administrative</th>\n",
       "      <th>Administrative_Duration</th>\n",
       "      <th>Informational</th>\n",
       "      <th>Informational_Duration</th>\n",
       "      <th>ProductRelated</th>\n",
       "      <th>ProductRelated_Duration</th>\n",
       "    </tr>\n",
       "  </thead>\n",
       "  <tbody>\n",
       "    <tr>\n",
       "      <th>count</th>\n",
       "      <td>8100.000000</td>\n",
       "      <td>8100.000000</td>\n",
       "      <td>8100.000000</td>\n",
       "      <td>8100.000000</td>\n",
       "      <td>8100.000000</td>\n",
       "      <td>8.099000e+03</td>\n",
       "    </tr>\n",
       "    <tr>\n",
       "      <th>mean</th>\n",
       "      <td>2.309877</td>\n",
       "      <td>80.926113</td>\n",
       "      <td>0.498025</td>\n",
       "      <td>32.884300</td>\n",
       "      <td>31.787160</td>\n",
       "      <td>8.311549e+04</td>\n",
       "    </tr>\n",
       "    <tr>\n",
       "      <th>std</th>\n",
       "      <td>3.311618</td>\n",
       "      <td>180.089694</td>\n",
       "      <td>1.258087</td>\n",
       "      <td>135.210888</td>\n",
       "      <td>44.961092</td>\n",
       "      <td>6.359096e+06</td>\n",
       "    </tr>\n",
       "    <tr>\n",
       "      <th>min</th>\n",
       "      <td>0.000000</td>\n",
       "      <td>0.000000</td>\n",
       "      <td>0.000000</td>\n",
       "      <td>0.000000</td>\n",
       "      <td>0.000000</td>\n",
       "      <td>0.000000e+00</td>\n",
       "    </tr>\n",
       "    <tr>\n",
       "      <th>25%</th>\n",
       "      <td>0.000000</td>\n",
       "      <td>0.000000</td>\n",
       "      <td>0.000000</td>\n",
       "      <td>0.000000</td>\n",
       "      <td>7.000000</td>\n",
       "      <td>1.837708e+02</td>\n",
       "    </tr>\n",
       "    <tr>\n",
       "      <th>50%</th>\n",
       "      <td>1.000000</td>\n",
       "      <td>7.000000</td>\n",
       "      <td>0.000000</td>\n",
       "      <td>0.000000</td>\n",
       "      <td>18.000000</td>\n",
       "      <td>5.988738e+02</td>\n",
       "    </tr>\n",
       "    <tr>\n",
       "      <th>75%</th>\n",
       "      <td>4.000000</td>\n",
       "      <td>91.988636</td>\n",
       "      <td>0.000000</td>\n",
       "      <td>0.000000</td>\n",
       "      <td>38.000000</td>\n",
       "      <td>1.462142e+03</td>\n",
       "    </tr>\n",
       "    <tr>\n",
       "      <th>max</th>\n",
       "      <td>27.000000</td>\n",
       "      <td>3398.750000</td>\n",
       "      <td>24.000000</td>\n",
       "      <td>2549.375000</td>\n",
       "      <td>705.000000</td>\n",
       "      <td>5.634924e+08</td>\n",
       "    </tr>\n",
       "  </tbody>\n",
       "</table>\n",
       "</div>"
      ],
      "text/plain": [
       "       Administrative  Administrative_Duration  Informational  \\\n",
       "count     8100.000000              8100.000000    8100.000000   \n",
       "mean         2.309877                80.926113       0.498025   \n",
       "std          3.311618               180.089694       1.258087   \n",
       "min          0.000000                 0.000000       0.000000   \n",
       "25%          0.000000                 0.000000       0.000000   \n",
       "50%          1.000000                 7.000000       0.000000   \n",
       "75%          4.000000                91.988636       0.000000   \n",
       "max         27.000000              3398.750000      24.000000   \n",
       "\n",
       "       Informational_Duration  ProductRelated  ProductRelated_Duration  \n",
       "count             8100.000000     8100.000000             8.099000e+03  \n",
       "mean                32.884300       31.787160             8.311549e+04  \n",
       "std                135.210888       44.961092             6.359096e+06  \n",
       "min                  0.000000        0.000000             0.000000e+00  \n",
       "25%                  0.000000        7.000000             1.837708e+02  \n",
       "50%                  0.000000       18.000000             5.988738e+02  \n",
       "75%                  0.000000       38.000000             1.462142e+03  \n",
       "max               2549.375000      705.000000             5.634924e+08  "
      ]
     },
     "execution_count": 4,
     "metadata": {},
     "output_type": "execute_result"
    }
   ],
   "source": [
    "# numerical data distribution on pages\n",
    "train[[\"Administrative\", \"Administrative_Duration\",\"Informational\", \"Informational_Duration\",\"ProductRelated\", \"ProductRelated_Duration\"]].describe()"
   ]
  },
  {
   "cell_type": "code",
   "execution_count": 5,
   "metadata": {},
   "outputs": [
    {
     "data": {
      "text/plain": [
       "<matplotlib.axes._subplots.AxesSubplot at 0x7fcef57e6350>"
      ]
     },
     "execution_count": 5,
     "metadata": {},
     "output_type": "execute_result"
    },
    {
     "data": {
      "image/png": "[encoded data removed]",
      "text/plain": [
       "<Figure size 432x288 with 1 Axes>"
      ]
     },
     "metadata": {
      "needs_background": "light"
     },
     "output_type": "display_data"
    }
   ],
   "source": [
    "train[[\"Administrative\",\"Informational\"]].plot.box()"
   ]
  },
  {
   "cell_type": "code",
   "execution_count": 6,
   "metadata": {},
   "outputs": [
    {
     "data": {
      "text/plain": [
       "<matplotlib.axes._subplots.AxesSubplot at 0x7fcef5a75550>"
      ]
     },
     "execution_count": 6,
     "metadata": {},
     "output_type": "execute_result"
    },
    {
     "data": {
      "image/png": "[encoded data removed]",
      "text/plain": [
       "<Figure size 432x288 with 1 Axes>"
      ]
     },
     "metadata": {
      "needs_background": "light"
     },
     "output_type": "display_data"
    }
   ],
   "source": [
    "train[[\"ProductRelated\"]].plot.box()"
   ]
  },
  {
   "cell_type": "markdown",
   "metadata": {},
   "source": [
    "Administrative: 資料分布由0-27,中位數1,平均2.3,屬右偏分佈\n",
    "\n",
    "Informational:資料分布由0-24,中位數0,平均0.5,屬右偏分佈\n",
    "\n",
    "ProductRelated:資料分布由0-705,中位數18,平均31.8,屬右偏分佈\n",
    "\n",
    "三者皆有偏差值outliar狀況"
   ]
  },
  {
   "cell_type": "code",
   "execution_count": 7,
   "metadata": {},
   "outputs": [
    {
     "data": {
      "text/plain": [
       "<matplotlib.axes._subplots.AxesSubplot at 0x7fcef5b616d0>"
      ]
     },
     "execution_count": 7,
     "metadata": {},
     "output_type": "execute_result"
    },
    {
     "data": {
      "image/png": "[encoded data removed]",
      "text/plain": [
       "<Figure size 432x288 with 1 Axes>"
      ]
     },
     "metadata": {
      "needs_background": "light"
     },
     "output_type": "display_data"
    }
   ],
   "source": [
    "train[[\"Administrative_Duration\",\"Informational_Duration\"]].plot.box()"
   ]
  },
  {
   "cell_type": "code",
   "execution_count": 8,
   "metadata": {},
   "outputs": [
    {
     "data": {
      "text/plain": [
       "<matplotlib.axes._subplots.AxesSubplot at 0x7fcef5c45850>"
      ]
     },
     "execution_count": 8,
     "metadata": {},
     "output_type": "execute_result"
    },
    {
     "data": {
      "image/png": "[encoded data removed]",
      "text/plain": [
       "<Figure size 432x288 with 1 Axes>"
      ]
     },
     "metadata": {
      "needs_background": "light"
     },
     "output_type": "display_data"
    }
   ],
   "source": [
    "train[[\"ProductRelated_Duration\"]].plot.box()"
   ]
  },
  {
   "cell_type": "markdown",
   "metadata": {},
   "source": [
    "Administrative_Duration：資料分布由0-3398,中位數7,平均80.9,屬右偏分佈\n",
    "\n",
    "Informational_Duration:資料分布由0-2549,中位數0,平均32,屬右偏分佈\n",
    "\n",
    "ProductRelated_Duration:資料分布由0-563492400,中位數598,平均83115.49,屬右偏分佈\n",
    "\n",
    "三者皆有偏差值outliar狀況"
   ]
  },
  {
   "cell_type": "code",
   "execution_count": 9,
   "metadata": {},
   "outputs": [
    {
     "data": {
      "text/html": [
       "<div>\n",
       "<style scoped>\n",
       "    .dataframe tbody tr th:only-of-type {\n",
       "        vertical-align: middle;\n",
       "    }\n",
       "\n",
       "    .dataframe tbody tr th {\n",
       "        vertical-align: top;\n",
       "    }\n",
       "\n",
       "    .dataframe thead th {\n",
       "        text-align: right;\n",
       "    }\n",
       "</style>\n",
       "<table border=\"1\" class=\"dataframe\">\n",
       "  <thead>\n",
       "    <tr style=\"text-align: right;\">\n",
       "      <th></th>\n",
       "      <th>BounceRates</th>\n",
       "      <th>ExitRates</th>\n",
       "      <th>PageValues</th>\n",
       "      <th>SpecialDay</th>\n",
       "    </tr>\n",
       "  </thead>\n",
       "  <tbody>\n",
       "    <tr>\n",
       "      <th>count</th>\n",
       "      <td>8100.000000</td>\n",
       "      <td>8100.000000</td>\n",
       "      <td>8100.000000</td>\n",
       "      <td>8100.000000</td>\n",
       "    </tr>\n",
       "    <tr>\n",
       "      <th>mean</th>\n",
       "      <td>0.020345</td>\n",
       "      <td>0.042699</td>\n",
       "      <td>5.744406</td>\n",
       "      <td>0.060469</td>\n",
       "    </tr>\n",
       "    <tr>\n",
       "      <th>std</th>\n",
       "      <td>0.131949</td>\n",
       "      <td>0.047943</td>\n",
       "      <td>17.940567</td>\n",
       "      <td>0.197809</td>\n",
       "    </tr>\n",
       "    <tr>\n",
       "      <th>min</th>\n",
       "      <td>-11.000000</td>\n",
       "      <td>0.000000</td>\n",
       "      <td>0.000000</td>\n",
       "      <td>0.000000</td>\n",
       "    </tr>\n",
       "    <tr>\n",
       "      <th>25%</th>\n",
       "      <td>0.000000</td>\n",
       "      <td>0.014286</td>\n",
       "      <td>0.000000</td>\n",
       "      <td>0.000000</td>\n",
       "    </tr>\n",
       "    <tr>\n",
       "      <th>50%</th>\n",
       "      <td>0.003202</td>\n",
       "      <td>0.025129</td>\n",
       "      <td>0.000000</td>\n",
       "      <td>0.000000</td>\n",
       "    </tr>\n",
       "    <tr>\n",
       "      <th>75%</th>\n",
       "      <td>0.016925</td>\n",
       "      <td>0.050000</td>\n",
       "      <td>0.000000</td>\n",
       "      <td>0.000000</td>\n",
       "    </tr>\n",
       "    <tr>\n",
       "      <th>max</th>\n",
       "      <td>0.200000</td>\n",
       "      <td>0.200000</td>\n",
       "      <td>287.953793</td>\n",
       "      <td>1.000000</td>\n",
       "    </tr>\n",
       "  </tbody>\n",
       "</table>\n",
       "</div>"
      ],
      "text/plain": [
       "       BounceRates    ExitRates   PageValues   SpecialDay\n",
       "count  8100.000000  8100.000000  8100.000000  8100.000000\n",
       "mean      0.020345     0.042699     5.744406     0.060469\n",
       "std       0.131949     0.047943    17.940567     0.197809\n",
       "min     -11.000000     0.000000     0.000000     0.000000\n",
       "25%       0.000000     0.014286     0.000000     0.000000\n",
       "50%       0.003202     0.025129     0.000000     0.000000\n",
       "75%       0.016925     0.050000     0.000000     0.000000\n",
       "max       0.200000     0.200000   287.953793     1.000000"
      ]
     },
     "execution_count": 9,
     "metadata": {},
     "output_type": "execute_result"
    }
   ],
   "source": [
    "# numerical data distribution on pages values\n",
    "train[[\"BounceRates\", \"ExitRates\",\"PageValues\", \"SpecialDay\"]].describe()"
   ]
  },
  {
   "cell_type": "code",
   "execution_count": 10,
   "metadata": {},
   "outputs": [
    {
     "data": {
      "text/plain": [
       "<matplotlib.axes._subplots.AxesSubplot at 0x7fcef57e67d0>"
      ]
     },
     "execution_count": 10,
     "metadata": {},
     "output_type": "execute_result"
    },
    {
     "data": {
      "image/png": "[encoded data removed]",
      "text/plain": [
       "<Figure size 432x288 with 1 Axes>"
      ]
     },
     "metadata": {
      "needs_background": "light"
     },
     "output_type": "display_data"
    }
   ],
   "source": [
    "train[[\"BounceRates\"]].plot.box()"
   ]
  },
  {
   "cell_type": "code",
   "execution_count": 11,
   "metadata": {},
   "outputs": [
    {
     "data": {
      "text/plain": [
       "<matplotlib.axes._subplots.AxesSubplot at 0x7fcef5dfc8d0>"
      ]
     },
     "execution_count": 11,
     "metadata": {},
     "output_type": "execute_result"
    },
    {
     "data": {
      "image/png": "[encoded data removed]",
      "text/plain": [
       "<Figure size 432x288 with 1 Axes>"
      ]
     },
     "metadata": {
      "needs_background": "light"
     },
     "output_type": "display_data"
    }
   ],
   "source": [
    "train[[\"ExitRates\"]].plot.box()"
   ]
  },
  {
   "cell_type": "code",
   "execution_count": 12,
   "metadata": {},
   "outputs": [
    {
     "data": {
      "text/plain": [
       "<matplotlib.axes._subplots.AxesSubplot at 0x7fcef48aa4d0>"
      ]
     },
     "execution_count": 12,
     "metadata": {},
     "output_type": "execute_result"
    },
    {
     "data": {
      "image/png": "[encoded data removed]",
      "text/plain": [
       "<Figure size 432x288 with 1 Axes>"
      ]
     },
     "metadata": {
      "needs_background": "light"
     },
     "output_type": "display_data"
    }
   ],
   "source": [
    "train[[\"PageValues\"]].plot.box()"
   ]
  },
  {
   "cell_type": "code",
   "execution_count": 13,
   "metadata": {},
   "outputs": [
    {
     "data": {
      "text/plain": [
       "<matplotlib.axes._subplots.AxesSubplot at 0x7fcef5f11710>"
      ]
     },
     "execution_count": 13,
     "metadata": {},
     "output_type": "execute_result"
    },
    {
     "data": {
      "image/png": "[encoded data removed]",
      "text/plain": [
       "<Figure size 432x288 with 1 Axes>"
      ]
     },
     "metadata": {
      "needs_background": "light"
     },
     "output_type": "display_data"
    }
   ],
   "source": [
    "train[[\"SpecialDay\"]].plot.box()"
   ]
  },
  {
   "cell_type": "markdown",
   "metadata": {},
   "source": [
    "BounceRates: 資料分布由-11-0.2,中位數0.003,平均0.02,屬右偏分佈\n",
    "\n",
    "ExitRates: 資料分布由0-0.2,中位數0.025,平均0.04,屬右偏分佈\n",
    "\n",
    "PageValues: 資料分布由0-297.9,中位數0,平均5.7,屬右偏分佈\n",
    "\n",
    "SpecialDay: 資料分布由0-1,中位數0,平均0.06,屬右偏分佈"
   ]
  },
  {
   "cell_type": "markdown",
   "metadata": {},
   "source": [
    "\n",
    "# 前處理\n",
    "## 處理missing value"
   ]
  },
  {
   "cell_type": "code",
   "execution_count": 14,
   "metadata": {},
   "outputs": [
    {
     "data": {
      "text/plain": [
       "ID                         0\n",
       "Administrative             0\n",
       "Administrative_Duration    0\n",
       "Informational              0\n",
       "Informational_Duration     0\n",
       "ProductRelated             0\n",
       "ProductRelated_Duration    1\n",
       "BounceRates                0\n",
       "ExitRates                  0\n",
       "PageValues                 0\n",
       "SpecialDay                 0\n",
       "Month                      0\n",
       "OperatingSystems           1\n",
       "Browser                    1\n",
       "Region                     1\n",
       "TrafficType                1\n",
       "VisitorType                1\n",
       "Weekend                    0\n",
       "Revenue                    0\n",
       "dtype: int64"
      ]
     },
     "execution_count": 14,
     "metadata": {},
     "output_type": "execute_result"
    }
   ],
   "source": [
    "# check missing value of each numerical column\n",
    "train.isnull().sum()"
   ]
  },
  {
   "cell_type": "code",
   "execution_count": 15,
   "metadata": {},
   "outputs": [
    {
     "data": {
      "text/plain": [
       "ID                         0\n",
       "Administrative             0\n",
       "Administrative_Duration    0\n",
       "Informational              0\n",
       "Informational_Duration     0\n",
       "ProductRelated             0\n",
       "ProductRelated_Duration    0\n",
       "BounceRates                0\n",
       "ExitRates                  0\n",
       "PageValues                 0\n",
       "SpecialDay                 0\n",
       "Month                      0\n",
       "OperatingSystems           0\n",
       "Browser                    0\n",
       "Region                     0\n",
       "TrafficType                0\n",
       "VisitorType                0\n",
       "Weekend                    0\n",
       "Revenue                    0\n",
       "dtype: int64"
      ]
     },
     "execution_count": 15,
     "metadata": {},
     "output_type": "execute_result"
    }
   ],
   "source": [
    "# rpeplace missing value with its mean (numerical)\n",
    "train['ProductRelated_Duration'] = train['ProductRelated_Duration'].fillna((train['ProductRelated_Duration'].mean()))\n",
    "\n",
    "#drop missing value (categorical)\n",
    "train = train.dropna()\n",
    "\n",
    "# recheck missing value of each column\n",
    "train.isnull().sum()"
   ]
  },
  {
   "cell_type": "code",
   "execution_count": 16,
   "metadata": {},
   "outputs": [
    {
     "data": {
      "text/plain": [
       "ID                         0\n",
       "Administrative             0\n",
       "Administrative_Duration    0\n",
       "Informational              0\n",
       "Informational_Duration     0\n",
       "ProductRelated             0\n",
       "ProductRelated_Duration    0\n",
       "BounceRates                0\n",
       "ExitRates                  0\n",
       "PageValues                 0\n",
       "SpecialDay                 0\n",
       "Month                      0\n",
       "OperatingSystems           0\n",
       "Browser                    0\n",
       "Region                     0\n",
       "TrafficType                0\n",
       "VisitorType                0\n",
       "Weekend                    0\n",
       "dtype: int64"
      ]
     },
     "execution_count": 16,
     "metadata": {},
     "output_type": "execute_result"
    }
   ],
   "source": [
    "# check missing value of each numerical column in testing data\n",
    "test.isnull().sum()"
   ]
  },
  {
   "cell_type": "code",
   "execution_count": 17,
   "metadata": {},
   "outputs": [],
   "source": [
    "# 檢查屬性值並轉換catrgorical data into one-hot encoding \n",
    "# 然而因為來不及確認這些列舉性資料欄位的資料分布以及如何處理這些看起來非正常值的欄位 因此先以資料原本樣子訓練\n",
    "\n",
    "#train['Month'].unique() #array([ 2,  9,  8,  4,  6,  5,  1,  7,  3,  0, 13]) *0和13非正常值\n",
    "#test['Month'].unique() #array([8, 9, 2, 1, 3, 5, 6, 7, 4, 0]) *0非正常值\n",
    "#train['OperatingSystems'].unique() #array([3., 1., 5., 0., 4., 6., 7., 2.])\n",
    "#test['OperatingSystems'].unique() #array([3, 1, 5, 0, 4, 7, 6])\n",
    "#train['Browser'].unique() # array([11., 10.,  1.,  3.,  9.,  5.,  6.,  7.,  8.,  0.,  4., 12.,  2.])\n",
    "#test['Browser'].unique() # array([10,  3,  7,  1,  4,  8, 11,  9,  6,  5])\n",
    "#train['Region'].unique() # array([3., 0., 1., 6., 5., 7., 2., 4., 8.])\n",
    "#test['Region'].unique() # array([0, 2, 1, 6, 5, 3, 4, 8, 7])\n",
    "#train['TrafficType'].unique() # array([ 7.,  8., 14.,  4., 15., 12.,  5.,  2., 18.,  6., 11.,  3., 13., 16., 10., 19.,  1.,  0., 17.,  9.])\n",
    "#test['TrafficType'].unique() # array([ 5,  4,  7,  8, 15, 12,  2, 11, 14, 10,  3, 19, 18, 16,  1, 13])\n",
    "#train['VisitorType'].unique() #array([2., 1., 0.])\n",
    "#test['VisitorType'].unique() #array([2, 1, 0])\n",
    "\n",
    "# 以one hot encoding結合,\n",
    "#mon_d = pd.get_dummies(train[\"Month\"],prefix=\"Month\")\n",
    "#train = pd.concat([train, mon_d], axis=1, join=\"inner\")\n",
    "#train= train.drop([\"Month_0\"],axis=1)  #本來想刪除這些非正常值\n",
    "#train= train.drop([\"Month_13\"],axis=1) #本來想刪除這些非正常值\n",
    "#mon_t = pd.get_dummies(test[\"Month\"],prefix=\"Month\")\n",
    "#test = pd.concat([test, mon_t], axis=1, join=\"inner\")\n",
    "#ope_d = pd.get_dummies(train[\"OperatingSystems\"],prefix=\"OperatingSystems\")\n",
    "#train = pd.concat([train, ope_d], axis=1, join=\"inner\")\n",
    "#ope_t = pd.get_dummies(test[\"OperatingSystems\"],prefix=\"OperatingSystems\")\n",
    "#test = pd.concat([test, ope_t], axis=1, join=\"inner\")\n",
    "#bro_d = pd.get_dummies(train[\"Browser\"],prefix=\"Browser\")\n",
    "#train = pd.concat([train, bro_d], axis=1, join=\"inner\")\n",
    "#bro_t = pd.get_dummies(test[\"Browser\"],prefix=\"Browser\")\n",
    "#test = pd.concat([test, bro_t], axis=1, join=\"inner\")\n",
    "#reg_d = pd.get_dummies(train[\"Region\"],prefix=\"Region\")\n",
    "#train = pd.concat([train, reg_d], axis=1, join=\"inner\")\n",
    "#reg_t = pd.get_dummies(test[\"Region\"],prefix=\"Region\")\n",
    "#test = pd.concat([test, reg_t], axis=1, join=\"inner\")\n",
    "#reg_d = pd.get_dummies(train[\"TrafficType\"],prefix=\"TrafficType\")\n",
    "#train = pd.concat([train, reg_d], axis=1, join=\"inner\")\n",
    "#reg_t = pd.get_dummies(test[\"TrafficType\"],prefix=\"TrafficType\")\n",
    "#test = pd.concat([test, reg_t], axis=1, join=\"inner\")\n",
    "#vis_d = pd.get_dummies(train[\"VisitorType\"],prefix=\"VisitorType\")\n",
    "#train = pd.concat([train, vis_d], axis=1, join=\"inner\")\n",
    "#vis_t = pd.get_dummies(test[\"VisitorType\"],prefix=\"VisitorType\")\n",
    "#test = pd.concat([test, vis_t], axis=1, join=\"inner\")\n",
    "\n",
    "# 將原本的欄位刪除\n",
    "#train= train.drop([\"Month\"],axis=1)\n",
    "#test= test.drop([\"Month\"],axis=1)\n",
    "#train= train.drop([\"OperatingSystems\"],axis=1)\n",
    "#test= test.drop([\"OperatingSystems\"],axis=1)\n",
    "#train= train.drop([\"Browser\"],axis=1)\n",
    "#test= test.drop([\"Browser\"],axis=1)\n",
    "#train= train.drop([\"Region\"],axis=1)\n",
    "#test= test.drop([\"Region\"],axis=1)\n",
    "#train= train.drop([\"TrafficType\"],axis=1)\n",
    "#test= test.drop([\"TrafficType\"],axis=1)\n",
    "#train= train.drop([\"VisitorType\"],axis=1)\n",
    "#test= test.drop([\"VisitorType\"],axis=1)"
   ]
  },
  {
   "cell_type": "markdown",
   "metadata": {},
   "source": [
    "## exclude outliar"
   ]
  },
  {
   "cell_type": "code",
   "execution_count": 18,
   "metadata": {},
   "outputs": [],
   "source": [
    "# 針對連續性資料保留 quantile 10%-90%區間資料來剔除偏差值\n",
    "cols = train.columns\n",
    "\n",
    "Q1 = train[cols].quantile(0.05)\n",
    "Q3 = train[cols].quantile(0.95)\n",
    "IQR = Q3 - Q1\n",
    "\n",
    "train = train[~((train[cols] < (Q1 - 1.5 * IQR)) |(train[cols] > (Q3 + 1.5 * IQR))).any(axis=1)]"
   ]
  },
  {
   "cell_type": "code",
   "execution_count": 19,
   "metadata": {},
   "outputs": [],
   "source": [
    "#training feature跟target分開\n",
    "target = train.Revenue\n",
    "train = train.drop(['Revenue'], axis=1)"
   ]
  },
  {
   "cell_type": "code",
   "execution_count": 20,
   "metadata": {},
   "outputs": [
    {
     "data": {
      "text/html": [
       "<div>\n",
       "<style scoped>\n",
       "    .dataframe tbody tr th:only-of-type {\n",
       "        vertical-align: middle;\n",
       "    }\n",
       "\n",
       "    .dataframe tbody tr th {\n",
       "        vertical-align: top;\n",
       "    }\n",
       "\n",
       "    .dataframe thead th {\n",
       "        text-align: right;\n",
       "    }\n",
       "</style>\n",
       "<table border=\"1\" class=\"dataframe\">\n",
       "  <thead>\n",
       "    <tr style=\"text-align: right;\">\n",
       "      <th></th>\n",
       "      <th>ID</th>\n",
       "      <th>Administrative</th>\n",
       "      <th>Administrative_Duration</th>\n",
       "      <th>Informational</th>\n",
       "      <th>Informational_Duration</th>\n",
       "      <th>ProductRelated</th>\n",
       "      <th>ProductRelated_Duration</th>\n",
       "      <th>BounceRates</th>\n",
       "      <th>ExitRates</th>\n",
       "      <th>PageValues</th>\n",
       "      <th>SpecialDay</th>\n",
       "      <th>Month</th>\n",
       "      <th>OperatingSystems</th>\n",
       "      <th>Browser</th>\n",
       "      <th>Region</th>\n",
       "      <th>TrafficType</th>\n",
       "      <th>VisitorType</th>\n",
       "      <th>Weekend</th>\n",
       "    </tr>\n",
       "  </thead>\n",
       "  <tbody>\n",
       "    <tr>\n",
       "      <th>0</th>\n",
       "      <td>8773</td>\n",
       "      <td>0</td>\n",
       "      <td>0.000000</td>\n",
       "      <td>0</td>\n",
       "      <td>0.0</td>\n",
       "      <td>1</td>\n",
       "      <td>0.000000</td>\n",
       "      <td>0.200000</td>\n",
       "      <td>0.200000</td>\n",
       "      <td>0.000000</td>\n",
       "      <td>0.4</td>\n",
       "      <td>2</td>\n",
       "      <td>3.0</td>\n",
       "      <td>11.0</td>\n",
       "      <td>3.0</td>\n",
       "      <td>7.0</td>\n",
       "      <td>2.0</td>\n",
       "      <td>0</td>\n",
       "    </tr>\n",
       "    <tr>\n",
       "      <th>1</th>\n",
       "      <td>6709</td>\n",
       "      <td>0</td>\n",
       "      <td>0.000000</td>\n",
       "      <td>0</td>\n",
       "      <td>0.0</td>\n",
       "      <td>1</td>\n",
       "      <td>0.000000</td>\n",
       "      <td>0.200000</td>\n",
       "      <td>0.200000</td>\n",
       "      <td>0.000000</td>\n",
       "      <td>0.0</td>\n",
       "      <td>9</td>\n",
       "      <td>1.0</td>\n",
       "      <td>10.0</td>\n",
       "      <td>0.0</td>\n",
       "      <td>8.0</td>\n",
       "      <td>2.0</td>\n",
       "      <td>0</td>\n",
       "    </tr>\n",
       "    <tr>\n",
       "      <th>2</th>\n",
       "      <td>1463</td>\n",
       "      <td>9</td>\n",
       "      <td>301.000000</td>\n",
       "      <td>0</td>\n",
       "      <td>0.0</td>\n",
       "      <td>38</td>\n",
       "      <td>2621.621429</td>\n",
       "      <td>0.021212</td>\n",
       "      <td>0.044508</td>\n",
       "      <td>10.721172</td>\n",
       "      <td>0.0</td>\n",
       "      <td>8</td>\n",
       "      <td>1.0</td>\n",
       "      <td>10.0</td>\n",
       "      <td>0.0</td>\n",
       "      <td>14.0</td>\n",
       "      <td>2.0</td>\n",
       "      <td>0</td>\n",
       "    </tr>\n",
       "    <tr>\n",
       "      <th>3</th>\n",
       "      <td>4095</td>\n",
       "      <td>2</td>\n",
       "      <td>13.333333</td>\n",
       "      <td>0</td>\n",
       "      <td>0.0</td>\n",
       "      <td>105</td>\n",
       "      <td>2062.443592</td>\n",
       "      <td>0.012205</td>\n",
       "      <td>0.020276</td>\n",
       "      <td>0.000000</td>\n",
       "      <td>0.6</td>\n",
       "      <td>2</td>\n",
       "      <td>5.0</td>\n",
       "      <td>10.0</td>\n",
       "      <td>0.0</td>\n",
       "      <td>7.0</td>\n",
       "      <td>2.0</td>\n",
       "      <td>0</td>\n",
       "    </tr>\n",
       "    <tr>\n",
       "      <th>4</th>\n",
       "      <td>3346</td>\n",
       "      <td>0</td>\n",
       "      <td>0.000000</td>\n",
       "      <td>0</td>\n",
       "      <td>0.0</td>\n",
       "      <td>19</td>\n",
       "      <td>220.384849</td>\n",
       "      <td>0.010526</td>\n",
       "      <td>0.024642</td>\n",
       "      <td>0.000000</td>\n",
       "      <td>0.0</td>\n",
       "      <td>2</td>\n",
       "      <td>1.0</td>\n",
       "      <td>1.0</td>\n",
       "      <td>0.0</td>\n",
       "      <td>7.0</td>\n",
       "      <td>2.0</td>\n",
       "      <td>0</td>\n",
       "    </tr>\n",
       "    <tr>\n",
       "      <th>...</th>\n",
       "      <td>...</td>\n",
       "      <td>...</td>\n",
       "      <td>...</td>\n",
       "      <td>...</td>\n",
       "      <td>...</td>\n",
       "      <td>...</td>\n",
       "      <td>...</td>\n",
       "      <td>...</td>\n",
       "      <td>...</td>\n",
       "      <td>...</td>\n",
       "      <td>...</td>\n",
       "      <td>...</td>\n",
       "      <td>...</td>\n",
       "      <td>...</td>\n",
       "      <td>...</td>\n",
       "      <td>...</td>\n",
       "      <td>...</td>\n",
       "      <td>...</td>\n",
       "    </tr>\n",
       "    <tr>\n",
       "      <th>8095</th>\n",
       "      <td>3758</td>\n",
       "      <td>0</td>\n",
       "      <td>0.000000</td>\n",
       "      <td>0</td>\n",
       "      <td>0.0</td>\n",
       "      <td>4</td>\n",
       "      <td>81.000000</td>\n",
       "      <td>0.000000</td>\n",
       "      <td>0.050000</td>\n",
       "      <td>0.000000</td>\n",
       "      <td>0.4</td>\n",
       "      <td>2</td>\n",
       "      <td>1.0</td>\n",
       "      <td>1.0</td>\n",
       "      <td>5.0</td>\n",
       "      <td>7.0</td>\n",
       "      <td>2.0</td>\n",
       "      <td>0</td>\n",
       "    </tr>\n",
       "    <tr>\n",
       "      <th>8096</th>\n",
       "      <td>4437</td>\n",
       "      <td>1</td>\n",
       "      <td>15.200000</td>\n",
       "      <td>2</td>\n",
       "      <td>62.6</td>\n",
       "      <td>84</td>\n",
       "      <td>4941.698611</td>\n",
       "      <td>0.017647</td>\n",
       "      <td>0.038706</td>\n",
       "      <td>0.000000</td>\n",
       "      <td>0.0</td>\n",
       "      <td>6</td>\n",
       "      <td>3.0</td>\n",
       "      <td>11.0</td>\n",
       "      <td>1.0</td>\n",
       "      <td>8.0</td>\n",
       "      <td>2.0</td>\n",
       "      <td>0</td>\n",
       "    </tr>\n",
       "    <tr>\n",
       "      <th>8097</th>\n",
       "      <td>7449</td>\n",
       "      <td>0</td>\n",
       "      <td>0.000000</td>\n",
       "      <td>0</td>\n",
       "      <td>0.0</td>\n",
       "      <td>25</td>\n",
       "      <td>701.883333</td>\n",
       "      <td>0.000000</td>\n",
       "      <td>0.023333</td>\n",
       "      <td>0.000000</td>\n",
       "      <td>0.0</td>\n",
       "      <td>6</td>\n",
       "      <td>1.0</td>\n",
       "      <td>10.0</td>\n",
       "      <td>0.0</td>\n",
       "      <td>4.0</td>\n",
       "      <td>2.0</td>\n",
       "      <td>0</td>\n",
       "    </tr>\n",
       "    <tr>\n",
       "      <th>8098</th>\n",
       "      <td>665</td>\n",
       "      <td>9</td>\n",
       "      <td>183.785714</td>\n",
       "      <td>1</td>\n",
       "      <td>90.0</td>\n",
       "      <td>95</td>\n",
       "      <td>3346.501984</td>\n",
       "      <td>0.002118</td>\n",
       "      <td>0.018656</td>\n",
       "      <td>5.932009</td>\n",
       "      <td>0.0</td>\n",
       "      <td>8</td>\n",
       "      <td>5.0</td>\n",
       "      <td>10.0</td>\n",
       "      <td>5.0</td>\n",
       "      <td>4.0</td>\n",
       "      <td>2.0</td>\n",
       "      <td>0</td>\n",
       "    </tr>\n",
       "    <tr>\n",
       "      <th>8099</th>\n",
       "      <td>552</td>\n",
       "      <td>3</td>\n",
       "      <td>49.750000</td>\n",
       "      <td>0</td>\n",
       "      <td>0.0</td>\n",
       "      <td>20</td>\n",
       "      <td>547.400794</td>\n",
       "      <td>0.000000</td>\n",
       "      <td>0.011688</td>\n",
       "      <td>15.065863</td>\n",
       "      <td>0.0</td>\n",
       "      <td>8</td>\n",
       "      <td>5.0</td>\n",
       "      <td>10.0</td>\n",
       "      <td>8.0</td>\n",
       "      <td>4.0</td>\n",
       "      <td>2.0</td>\n",
       "      <td>0</td>\n",
       "    </tr>\n",
       "  </tbody>\n",
       "</table>\n",
       "<p>7766 rows × 18 columns</p>\n",
       "</div>"
      ],
      "text/plain": [
       "        ID  Administrative  Administrative_Duration  Informational  \\\n",
       "0     8773               0                 0.000000              0   \n",
       "1     6709               0                 0.000000              0   \n",
       "2     1463               9               301.000000              0   \n",
       "3     4095               2                13.333333              0   \n",
       "4     3346               0                 0.000000              0   \n",
       "...    ...             ...                      ...            ...   \n",
       "8095  3758               0                 0.000000              0   \n",
       "8096  4437               1                15.200000              2   \n",
       "8097  7449               0                 0.000000              0   \n",
       "8098   665               9               183.785714              1   \n",
       "8099   552               3                49.750000              0   \n",
       "\n",
       "      Informational_Duration  ProductRelated  ProductRelated_Duration  \\\n",
       "0                        0.0               1                 0.000000   \n",
       "1                        0.0               1                 0.000000   \n",
       "2                        0.0              38              2621.621429   \n",
       "3                        0.0             105              2062.443592   \n",
       "4                        0.0              19               220.384849   \n",
       "...                      ...             ...                      ...   \n",
       "8095                     0.0               4                81.000000   \n",
       "8096                    62.6              84              4941.698611   \n",
       "8097                     0.0              25               701.883333   \n",
       "8098                    90.0              95              3346.501984   \n",
       "8099                     0.0              20               547.400794   \n",
       "\n",
       "      BounceRates  ExitRates  PageValues  SpecialDay  Month  OperatingSystems  \\\n",
       "0        0.200000   0.200000    0.000000         0.4      2               3.0   \n",
       "1        0.200000   0.200000    0.000000         0.0      9               1.0   \n",
       "2        0.021212   0.044508   10.721172         0.0      8               1.0   \n",
       "3        0.012205   0.020276    0.000000         0.6      2               5.0   \n",
       "4        0.010526   0.024642    0.000000         0.0      2               1.0   \n",
       "...           ...        ...         ...         ...    ...               ...   \n",
       "8095     0.000000   0.050000    0.000000         0.4      2               1.0   \n",
       "8096     0.017647   0.038706    0.000000         0.0      6               3.0   \n",
       "8097     0.000000   0.023333    0.000000         0.0      6               1.0   \n",
       "8098     0.002118   0.018656    5.932009         0.0      8               5.0   \n",
       "8099     0.000000   0.011688   15.065863         0.0      8               5.0   \n",
       "\n",
       "      Browser  Region  TrafficType  VisitorType  Weekend  \n",
       "0        11.0     3.0          7.0          2.0        0  \n",
       "1        10.0     0.0          8.0          2.0        0  \n",
       "2        10.0     0.0         14.0          2.0        0  \n",
       "3        10.0     0.0          7.0          2.0        0  \n",
       "4         1.0     0.0          7.0          2.0        0  \n",
       "...       ...     ...          ...          ...      ...  \n",
       "8095      1.0     5.0          7.0          2.0        0  \n",
       "8096     11.0     1.0          8.0          2.0        0  \n",
       "8097     10.0     0.0          4.0          2.0        0  \n",
       "8098     10.0     5.0          4.0          2.0        0  \n",
       "8099     10.0     8.0          4.0          2.0        0  \n",
       "\n",
       "[7766 rows x 18 columns]"
      ]
     },
     "execution_count": 20,
     "metadata": {},
     "output_type": "execute_result"
    }
   ],
   "source": [
    "train"
   ]
  },
  {
   "cell_type": "code",
   "execution_count": 21,
   "metadata": {},
   "outputs": [
    {
     "data": {
      "text/html": [
       "<div>\n",
       "<style scoped>\n",
       "    .dataframe tbody tr th:only-of-type {\n",
       "        vertical-align: middle;\n",
       "    }\n",
       "\n",
       "    .dataframe tbody tr th {\n",
       "        vertical-align: top;\n",
       "    }\n",
       "\n",
       "    .dataframe thead th {\n",
       "        text-align: right;\n",
       "    }\n",
       "</style>\n",
       "<table border=\"1\" class=\"dataframe\">\n",
       "  <thead>\n",
       "    <tr style=\"text-align: right;\">\n",
       "      <th></th>\n",
       "      <th>ID</th>\n",
       "      <th>Administrative</th>\n",
       "      <th>Administrative_Duration</th>\n",
       "      <th>Informational</th>\n",
       "      <th>Informational_Duration</th>\n",
       "      <th>ProductRelated</th>\n",
       "      <th>ProductRelated_Duration</th>\n",
       "      <th>BounceRates</th>\n",
       "      <th>ExitRates</th>\n",
       "      <th>PageValues</th>\n",
       "      <th>SpecialDay</th>\n",
       "      <th>Month</th>\n",
       "      <th>OperatingSystems</th>\n",
       "      <th>Browser</th>\n",
       "      <th>Region</th>\n",
       "      <th>TrafficType</th>\n",
       "      <th>VisitorType</th>\n",
       "      <th>Weekend</th>\n",
       "    </tr>\n",
       "  </thead>\n",
       "  <tbody>\n",
       "    <tr>\n",
       "      <th>0</th>\n",
       "      <td>6162</td>\n",
       "      <td>0</td>\n",
       "      <td>0.0</td>\n",
       "      <td>0</td>\n",
       "      <td>0.0</td>\n",
       "      <td>12</td>\n",
       "      <td>482.500000</td>\n",
       "      <td>0.020000</td>\n",
       "      <td>0.040000</td>\n",
       "      <td>0.000000</td>\n",
       "      <td>0.0</td>\n",
       "      <td>8</td>\n",
       "      <td>3</td>\n",
       "      <td>10</td>\n",
       "      <td>0</td>\n",
       "      <td>5</td>\n",
       "      <td>2</td>\n",
       "      <td>0</td>\n",
       "    </tr>\n",
       "    <tr>\n",
       "      <th>1</th>\n",
       "      <td>8143</td>\n",
       "      <td>3</td>\n",
       "      <td>33.0</td>\n",
       "      <td>0</td>\n",
       "      <td>0.0</td>\n",
       "      <td>17</td>\n",
       "      <td>386.416667</td>\n",
       "      <td>0.000000</td>\n",
       "      <td>0.010000</td>\n",
       "      <td>0.000000</td>\n",
       "      <td>0.0</td>\n",
       "      <td>9</td>\n",
       "      <td>1</td>\n",
       "      <td>10</td>\n",
       "      <td>0</td>\n",
       "      <td>4</td>\n",
       "      <td>1</td>\n",
       "      <td>0</td>\n",
       "    </tr>\n",
       "    <tr>\n",
       "      <th>2</th>\n",
       "      <td>5571</td>\n",
       "      <td>0</td>\n",
       "      <td>0.0</td>\n",
       "      <td>0</td>\n",
       "      <td>0.0</td>\n",
       "      <td>9</td>\n",
       "      <td>154.800000</td>\n",
       "      <td>0.018182</td>\n",
       "      <td>0.030303</td>\n",
       "      <td>20.749351</td>\n",
       "      <td>0.0</td>\n",
       "      <td>8</td>\n",
       "      <td>3</td>\n",
       "      <td>3</td>\n",
       "      <td>2</td>\n",
       "      <td>4</td>\n",
       "      <td>2</td>\n",
       "      <td>0</td>\n",
       "    </tr>\n",
       "    <tr>\n",
       "      <th>3</th>\n",
       "      <td>3933</td>\n",
       "      <td>5</td>\n",
       "      <td>79.0</td>\n",
       "      <td>1</td>\n",
       "      <td>12.0</td>\n",
       "      <td>54</td>\n",
       "      <td>1603.333333</td>\n",
       "      <td>0.005085</td>\n",
       "      <td>0.025424</td>\n",
       "      <td>0.000000</td>\n",
       "      <td>0.4</td>\n",
       "      <td>2</td>\n",
       "      <td>1</td>\n",
       "      <td>10</td>\n",
       "      <td>1</td>\n",
       "      <td>7</td>\n",
       "      <td>2</td>\n",
       "      <td>0</td>\n",
       "    </tr>\n",
       "    <tr>\n",
       "      <th>4</th>\n",
       "      <td>934</td>\n",
       "      <td>2</td>\n",
       "      <td>17.0</td>\n",
       "      <td>1</td>\n",
       "      <td>105.0</td>\n",
       "      <td>9</td>\n",
       "      <td>148.250000</td>\n",
       "      <td>0.020000</td>\n",
       "      <td>0.022000</td>\n",
       "      <td>0.000000</td>\n",
       "      <td>0.0</td>\n",
       "      <td>1</td>\n",
       "      <td>5</td>\n",
       "      <td>10</td>\n",
       "      <td>0</td>\n",
       "      <td>8</td>\n",
       "      <td>2</td>\n",
       "      <td>0</td>\n",
       "    </tr>\n",
       "    <tr>\n",
       "      <th>...</th>\n",
       "      <td>...</td>\n",
       "      <td>...</td>\n",
       "      <td>...</td>\n",
       "      <td>...</td>\n",
       "      <td>...</td>\n",
       "      <td>...</td>\n",
       "      <td>...</td>\n",
       "      <td>...</td>\n",
       "      <td>...</td>\n",
       "      <td>...</td>\n",
       "      <td>...</td>\n",
       "      <td>...</td>\n",
       "      <td>...</td>\n",
       "      <td>...</td>\n",
       "      <td>...</td>\n",
       "      <td>...</td>\n",
       "      <td>...</td>\n",
       "      <td>...</td>\n",
       "    </tr>\n",
       "    <tr>\n",
       "      <th>895</th>\n",
       "      <td>5887</td>\n",
       "      <td>2</td>\n",
       "      <td>738.0</td>\n",
       "      <td>0</td>\n",
       "      <td>0.0</td>\n",
       "      <td>26</td>\n",
       "      <td>1840.666667</td>\n",
       "      <td>0.008000</td>\n",
       "      <td>0.042000</td>\n",
       "      <td>0.000000</td>\n",
       "      <td>0.0</td>\n",
       "      <td>2</td>\n",
       "      <td>1</td>\n",
       "      <td>10</td>\n",
       "      <td>3</td>\n",
       "      <td>14</td>\n",
       "      <td>2</td>\n",
       "      <td>0</td>\n",
       "    </tr>\n",
       "    <tr>\n",
       "      <th>896</th>\n",
       "      <td>5273</td>\n",
       "      <td>0</td>\n",
       "      <td>0.0</td>\n",
       "      <td>2</td>\n",
       "      <td>26.5</td>\n",
       "      <td>149</td>\n",
       "      <td>6001.171475</td>\n",
       "      <td>0.004000</td>\n",
       "      <td>0.022011</td>\n",
       "      <td>0.000000</td>\n",
       "      <td>0.0</td>\n",
       "      <td>8</td>\n",
       "      <td>1</td>\n",
       "      <td>10</td>\n",
       "      <td>0</td>\n",
       "      <td>4</td>\n",
       "      <td>2</td>\n",
       "      <td>0</td>\n",
       "    </tr>\n",
       "    <tr>\n",
       "      <th>897</th>\n",
       "      <td>5833</td>\n",
       "      <td>0</td>\n",
       "      <td>0.0</td>\n",
       "      <td>0</td>\n",
       "      <td>0.0</td>\n",
       "      <td>2</td>\n",
       "      <td>0.000000</td>\n",
       "      <td>0.200000</td>\n",
       "      <td>0.200000</td>\n",
       "      <td>0.000000</td>\n",
       "      <td>0.6</td>\n",
       "      <td>2</td>\n",
       "      <td>3</td>\n",
       "      <td>3</td>\n",
       "      <td>0</td>\n",
       "      <td>12</td>\n",
       "      <td>2</td>\n",
       "      <td>0</td>\n",
       "    </tr>\n",
       "    <tr>\n",
       "      <th>898</th>\n",
       "      <td>2119</td>\n",
       "      <td>0</td>\n",
       "      <td>0.0</td>\n",
       "      <td>0</td>\n",
       "      <td>0.0</td>\n",
       "      <td>15</td>\n",
       "      <td>263.250000</td>\n",
       "      <td>0.013333</td>\n",
       "      <td>0.040000</td>\n",
       "      <td>0.000000</td>\n",
       "      <td>0.0</td>\n",
       "      <td>8</td>\n",
       "      <td>3</td>\n",
       "      <td>3</td>\n",
       "      <td>6</td>\n",
       "      <td>5</td>\n",
       "      <td>2</td>\n",
       "      <td>1</td>\n",
       "    </tr>\n",
       "    <tr>\n",
       "      <th>899</th>\n",
       "      <td>4448</td>\n",
       "      <td>1</td>\n",
       "      <td>0.0</td>\n",
       "      <td>0</td>\n",
       "      <td>0.0</td>\n",
       "      <td>7</td>\n",
       "      <td>37.000000</td>\n",
       "      <td>0.083333</td>\n",
       "      <td>0.108333</td>\n",
       "      <td>0.000000</td>\n",
       "      <td>0.6</td>\n",
       "      <td>2</td>\n",
       "      <td>3</td>\n",
       "      <td>3</td>\n",
       "      <td>5</td>\n",
       "      <td>7</td>\n",
       "      <td>2</td>\n",
       "      <td>0</td>\n",
       "    </tr>\n",
       "  </tbody>\n",
       "</table>\n",
       "<p>900 rows × 18 columns</p>\n",
       "</div>"
      ],
      "text/plain": [
       "       ID  Administrative  Administrative_Duration  Informational  \\\n",
       "0    6162               0                      0.0              0   \n",
       "1    8143               3                     33.0              0   \n",
       "2    5571               0                      0.0              0   \n",
       "3    3933               5                     79.0              1   \n",
       "4     934               2                     17.0              1   \n",
       "..    ...             ...                      ...            ...   \n",
       "895  5887               2                    738.0              0   \n",
       "896  5273               0                      0.0              2   \n",
       "897  5833               0                      0.0              0   \n",
       "898  2119               0                      0.0              0   \n",
       "899  4448               1                      0.0              0   \n",
       "\n",
       "     Informational_Duration  ProductRelated  ProductRelated_Duration  \\\n",
       "0                       0.0              12               482.500000   \n",
       "1                       0.0              17               386.416667   \n",
       "2                       0.0               9               154.800000   \n",
       "3                      12.0              54              1603.333333   \n",
       "4                     105.0               9               148.250000   \n",
       "..                      ...             ...                      ...   \n",
       "895                     0.0              26              1840.666667   \n",
       "896                    26.5             149              6001.171475   \n",
       "897                     0.0               2                 0.000000   \n",
       "898                     0.0              15               263.250000   \n",
       "899                     0.0               7                37.000000   \n",
       "\n",
       "     BounceRates  ExitRates  PageValues  SpecialDay  Month  OperatingSystems  \\\n",
       "0       0.020000   0.040000    0.000000         0.0      8                 3   \n",
       "1       0.000000   0.010000    0.000000         0.0      9                 1   \n",
       "2       0.018182   0.030303   20.749351         0.0      8                 3   \n",
       "3       0.005085   0.025424    0.000000         0.4      2                 1   \n",
       "4       0.020000   0.022000    0.000000         0.0      1                 5   \n",
       "..           ...        ...         ...         ...    ...               ...   \n",
       "895     0.008000   0.042000    0.000000         0.0      2                 1   \n",
       "896     0.004000   0.022011    0.000000         0.0      8                 1   \n",
       "897     0.200000   0.200000    0.000000         0.6      2                 3   \n",
       "898     0.013333   0.040000    0.000000         0.0      8                 3   \n",
       "899     0.083333   0.108333    0.000000         0.6      2                 3   \n",
       "\n",
       "     Browser  Region  TrafficType  VisitorType  Weekend  \n",
       "0         10       0            5            2        0  \n",
       "1         10       0            4            1        0  \n",
       "2          3       2            4            2        0  \n",
       "3         10       1            7            2        0  \n",
       "4         10       0            8            2        0  \n",
       "..       ...     ...          ...          ...      ...  \n",
       "895       10       3           14            2        0  \n",
       "896       10       0            4            2        0  \n",
       "897        3       0           12            2        0  \n",
       "898        3       6            5            2        1  \n",
       "899        3       5            7            2        0  \n",
       "\n",
       "[900 rows x 18 columns]"
      ]
     },
     "execution_count": 21,
     "metadata": {},
     "output_type": "execute_result"
    }
   ],
   "source": [
    "# 針對test資料保留原始分佈\n",
    "# 由於未提供test的Revenue資訊因此用training做自我測試\n",
    "test"
   ]
  },
  {
   "cell_type": "code",
   "execution_count": 22,
   "metadata": {},
   "outputs": [],
   "source": [
    "from sklearn.model_selection import train_test_split \n",
    "X_train, X_test, y_train, y_test = train_test_split(train, target, test_size = 0.4, random_state = 0)"
   ]
  },
  {
   "cell_type": "markdown",
   "metadata": {},
   "source": [
    "#  feature scaling"
   ]
  },
  {
   "cell_type": "code",
   "execution_count": 23,
   "metadata": {},
   "outputs": [],
   "source": [
    "# 由於資料範圍分布差異大，因此透過feature scaling針對feature做標準化，避免資料分布範圍差異過大影響結果\n",
    "\n",
    "sc = StandardScaler()\n",
    "train_sc = sc.fit_transform(X_train)\n",
    "test_sc = sc.fit_transform(X_test)\n",
    "test_data = sc.fit_transform(test)"
   ]
  },
  {
   "cell_type": "markdown",
   "metadata": {},
   "source": [
    "在資料分析前處理過程中，透過觀察資料分布及偏差值缺值分別做處理，以及透過標準化來使資料分布區間一致\n",
    "\n",
    "原先的training data經過前處理後變成 3273 rows × 18 columns\n",
    "\n",
    "原先的testing data經過前處理後變成 900 rows × 18 columns"
   ]
  },
  {
   "cell_type": "markdown",
   "metadata": {},
   "source": [
    "# Modeling"
   ]
  },
  {
   "cell_type": "markdown",
   "metadata": {},
   "source": [
    "### 透過LogisticRegression預測"
   ]
  },
  {
   "cell_type": "code",
   "execution_count": 24,
   "metadata": {},
   "outputs": [],
   "source": [
    "clf = LogisticRegression(random_state=0).fit(train_sc, y_train)"
   ]
  },
  {
   "cell_type": "code",
   "execution_count": 25,
   "metadata": {},
   "outputs": [
    {
     "data": {
      "text/plain": [
       "0.878982941744448"
      ]
     },
     "execution_count": 25,
     "metadata": {},
     "output_type": "execute_result"
    }
   ],
   "source": [
    "clf.score(test_sc, y_test)"
   ]
  },
  {
   "cell_type": "code",
   "execution_count": 26,
   "metadata": {},
   "outputs": [
    {
     "name": "stdout",
     "output_type": "stream",
     "text": [
      "accuracy: 0.878982941744448\n",
      "precision: 0.7649572649572649\n",
      "recall: 0.358\n",
      "f1_score: 0.48773841961852854\n"
     ]
    }
   ],
   "source": [
    "y_pred = clf.predict(test_sc)\n",
    "print(\"accuracy: \"+str(metrics.accuracy_score(y_test, y_pred)))\n",
    "print(\"precision: \"+str(metrics.precision_score(y_test, y_pred)))\n",
    "print(\"recall: \"+str(metrics.recall_score(y_test, y_pred)))\n",
    "print(\"f1_score: \"+str(metrics.f1_score(y_test, y_pred)))"
   ]
  },
  {
   "cell_type": "markdown",
   "metadata": {},
   "source": [
    "### 透過KNeighborsClassifier預測"
   ]
  },
  {
   "cell_type": "code",
   "execution_count": 27,
   "metadata": {},
   "outputs": [
    {
     "data": {
      "text/plain": [
       "0.8609591245574509"
      ]
     },
     "execution_count": 27,
     "metadata": {},
     "output_type": "execute_result"
    }
   ],
   "source": [
    "neigh = KNeighborsClassifier(n_neighbors=3)\n",
    "neigh.fit(train_sc, y_train)\n",
    "neigh.score(test_sc, y_test)"
   ]
  },
  {
   "cell_type": "code",
   "execution_count": 28,
   "metadata": {},
   "outputs": [
    {
     "name": "stdout",
     "output_type": "stream",
     "text": [
      "accuracy: 0.8609591245574509\n",
      "precision: 0.6297709923664122\n",
      "recall: 0.33\n",
      "f1_score: 0.4330708661417323\n"
     ]
    }
   ],
   "source": [
    "y_pred = neigh.predict(test_sc)\n",
    "print(\"accuracy: \"+str(metrics.accuracy_score(y_test, y_pred)))\n",
    "print(\"precision: \"+str(metrics.precision_score(y_test, y_pred)))\n",
    "print(\"recall: \"+str(metrics.recall_score(y_test, y_pred)))\n",
    "print(\"f1_score: \"+str(metrics.f1_score(y_test, y_pred)))"
   ]
  },
  {
   "cell_type": "markdown",
   "metadata": {},
   "source": [
    "### 透過DecisionTree預測"
   ]
  },
  {
   "cell_type": "code",
   "execution_count": 29,
   "metadata": {},
   "outputs": [
    {
     "data": {
      "text/plain": [
       "0.8480849694238816"
      ]
     },
     "execution_count": 29,
     "metadata": {},
     "output_type": "execute_result"
    }
   ],
   "source": [
    "tre = tree.DecisionTreeClassifier()\n",
    "tre.fit(train_sc, y_train)\n",
    "tre.score(test_sc, y_test)"
   ]
  },
  {
   "cell_type": "code",
   "execution_count": 30,
   "metadata": {},
   "outputs": [
    {
     "name": "stdout",
     "output_type": "stream",
     "text": [
      "accuracy: 0.8480849694238816\n",
      "precision: 0.5282258064516129\n",
      "recall: 0.524\n",
      "f1_score: 0.5261044176706827\n"
     ]
    }
   ],
   "source": [
    "y_pred = tre.predict(test_sc)\n",
    "print(\"accuracy: \"+str(metrics.accuracy_score(y_test, y_pred)))\n",
    "print(\"precision: \"+str(metrics.precision_score(y_test, y_pred)))\n",
    "print(\"recall: \"+str(metrics.recall_score(y_test, y_pred)))\n",
    "print(\"f1_score: \"+str(metrics.f1_score(y_test, y_pred)))"
   ]
  },
  {
   "cell_type": "markdown",
   "metadata": {},
   "source": [
    "### 透過MLPRegressor預測"
   ]
  },
  {
   "cell_type": "code",
   "execution_count": 31,
   "metadata": {},
   "outputs": [
    {
     "data": {
      "text/plain": [
       "-4.507240647889837"
      ]
     },
     "execution_count": 31,
     "metadata": {},
     "output_type": "execute_result"
    }
   ],
   "source": [
    "regr = MLPRegressor(random_state=1, max_iter=500).fit(X_train, y_train)\n",
    "regr.score(test_sc, y_test)"
   ]
  },
  {
   "cell_type": "code",
   "execution_count": 32,
   "metadata": {},
   "outputs": [
    {
     "name": "stdout",
     "output_type": "stream",
     "text": [
      "accuracy: 0.8480849694238816\n",
      "precision: 0.5282258064516129\n",
      "recall: 0.524\n",
      "f1_score: 0.5261044176706827\n"
     ]
    }
   ],
   "source": [
    "y_pred = tre.predict(test_sc)\n",
    "print(\"accuracy: \"+str(metrics.accuracy_score(y_test, y_pred)))\n",
    "print(\"precision: \"+str(metrics.precision_score(y_test, y_pred)))\n",
    "print(\"recall: \"+str(metrics.recall_score(y_test, y_pred)))\n",
    "print(\"f1_score: \"+str(metrics.f1_score(y_test, y_pred)))"
   ]
  },
  {
   "cell_type": "markdown",
   "metadata": {},
   "source": [
    "### 透過MLPClassifier預測"
   ]
  },
  {
   "cell_type": "code",
   "execution_count": 33,
   "metadata": {},
   "outputs": [
    {
     "data": {
      "text/plain": [
       "0.49372384937238495"
      ]
     },
     "execution_count": 33,
     "metadata": {},
     "output_type": "execute_result"
    }
   ],
   "source": [
    "clf = MLPClassifier(random_state=1, max_iter=300).fit(X_train, y_train)\n",
    "clf.score(test_sc, y_test)"
   ]
  },
  {
   "cell_type": "code",
   "execution_count": 34,
   "metadata": {},
   "outputs": [
    {
     "name": "stdout",
     "output_type": "stream",
     "text": [
      "accuracy: 0.49372384937238495\n",
      "precision: 0.21896280775275012\n",
      "recall: 0.836\n",
      "f1_score: 0.34703196347031956\n"
     ]
    }
   ],
   "source": [
    "y_pred = clf.predict(test_sc)\n",
    "print(\"accuracy: \"+str(metrics.accuracy_score(y_test, y_pred)))\n",
    "print(\"precision: \"+str(metrics.precision_score(y_test, y_pred)))\n",
    "print(\"recall: \"+str(metrics.recall_score(y_test, y_pred)))\n",
    "print(\"f1_score: \"+str(metrics.f1_score(y_test, y_pred)))"
   ]
  },
  {
   "cell_type": "markdown",
   "metadata": {},
   "source": [
    "綜合以上數種模型的預測結果以及使用各種評量方式衡量結果\n",
    "\n",
    "LogisticRegression, KNeighborsClassifier, DecisionTree, MLPRegressor在accuracy的表現上相較於MLPClassifier都不錯 \n",
    "\n",
    "而MLPClassifier反而在recall值表現得最好，也就是代表能夠正確地預測最多比例的原始資料\n",
    "\n",
    "LogisticRegression是各項模型中分數表現最好的因此被用來當作預測testing data"
   ]
  },
  {
   "cell_type": "markdown",
   "metadata": {},
   "source": [
    "### Testing cases"
   ]
  },
  {
   "cell_type": "code",
   "execution_count": 37,
   "metadata": {},
   "outputs": [
    {
     "data": {
      "text/html": [
       "<div>\n",
       "<style scoped>\n",
       "    .dataframe tbody tr th:only-of-type {\n",
       "        vertical-align: middle;\n",
       "    }\n",
       "\n",
       "    .dataframe tbody tr th {\n",
       "        vertical-align: top;\n",
       "    }\n",
       "\n",
       "    .dataframe thead th {\n",
       "        text-align: right;\n",
       "    }\n",
       "</style>\n",
       "<table border=\"1\" class=\"dataframe\">\n",
       "  <thead>\n",
       "    <tr style=\"text-align: right;\">\n",
       "      <th></th>\n",
       "      <th>HasRevenue</th>\n",
       "    </tr>\n",
       "    <tr>\n",
       "      <th>ID</th>\n",
       "      <th></th>\n",
       "    </tr>\n",
       "  </thead>\n",
       "  <tbody>\n",
       "    <tr>\n",
       "      <th>0</th>\n",
       "      <td>1</td>\n",
       "    </tr>\n",
       "    <tr>\n",
       "      <th>1</th>\n",
       "      <td>1</td>\n",
       "    </tr>\n",
       "    <tr>\n",
       "      <th>2</th>\n",
       "      <td>1</td>\n",
       "    </tr>\n",
       "    <tr>\n",
       "      <th>3</th>\n",
       "      <td>0</td>\n",
       "    </tr>\n",
       "    <tr>\n",
       "      <th>4</th>\n",
       "      <td>0</td>\n",
       "    </tr>\n",
       "    <tr>\n",
       "      <th>...</th>\n",
       "      <td>...</td>\n",
       "    </tr>\n",
       "    <tr>\n",
       "      <th>895</th>\n",
       "      <td>0</td>\n",
       "    </tr>\n",
       "    <tr>\n",
       "      <th>896</th>\n",
       "      <td>1</td>\n",
       "    </tr>\n",
       "    <tr>\n",
       "      <th>897</th>\n",
       "      <td>0</td>\n",
       "    </tr>\n",
       "    <tr>\n",
       "      <th>898</th>\n",
       "      <td>0</td>\n",
       "    </tr>\n",
       "    <tr>\n",
       "      <th>899</th>\n",
       "      <td>0</td>\n",
       "    </tr>\n",
       "  </tbody>\n",
       "</table>\n",
       "<p>900 rows × 1 columns</p>\n",
       "</div>"
      ],
      "text/plain": [
       "     HasRevenue\n",
       "ID             \n",
       "0             1\n",
       "1             1\n",
       "2             1\n",
       "3             0\n",
       "4             0\n",
       "..          ...\n",
       "895           0\n",
       "896           1\n",
       "897           0\n",
       "898           0\n",
       "899           0\n",
       "\n",
       "[900 rows x 1 columns]"
      ]
     },
     "execution_count": 37,
     "metadata": {},
     "output_type": "execute_result"
    }
   ],
   "source": [
    "y_pred = clf.predict(test_data)\n",
    "df = pd.DataFrame(y_pred, columns = ['HasRevenue'])\n",
    "df.index.name=\"ID\"\n",
    "df"
   ]
  },
  {
   "cell_type": "code",
   "execution_count": 36,
   "metadata": {},
   "outputs": [],
   "source": [
    "df.to_csv(\"sample_submission_peihsuan.csv\")"
   ]
  }
 ],
 "metadata": {
  "kernelspec": {
   "display_name": "Python 3",
   "language": "python",
   "name": "python3"
  },
  "language_info": {
   "codemirror_mode": {
    "name": "ipython",
    "version": 3
   },
   "file_extension": ".py",
   "mimetype": "text/x-python",
   "name": "python",
   "nbconvert_exporter": "python",
   "pygments_lexer": "ipython3",
   "version": "3.7.6"
  }
 },
 "nbformat": 4,
 "nbformat_minor": 4
}
